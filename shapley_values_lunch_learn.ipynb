{
 "cells": [
  {
   "cell_type": "markdown",
   "metadata": {},
   "source": [
    "---\n",
    "\n",
    "# Interpretable Machine Learning: Shapley Values\n",
    "#### United Lunch & Learn: June 6, 2019\n",
    "#### Updated: September 1, 2021\n",
    "\n",
    "_Author: Carleton Smith_\n",
    "\n",
    "Many of the examples and sources cited in this tutorial came from these two excellent podcast episodes by [_Linear Digressions_](http://lineardigressions.com/):\n",
    "\n",
    "- [\"Game Theory for model interpretability: Shapley Values\"](http://lineardigressions.com/episodes/2018/5/6/game-theory-for-model-interpretability-shapley-values)\n",
    "- [\"SHAP: Shapley Values in Machine Learning\"](http://lineardigressions.com/episodes/2018/5/13/shap-shapley-values-in-machine-learning)\n",
    "\n",
    "---"
   ]
  },
  {
   "cell_type": "markdown",
   "metadata": {},
   "source": [
    "<a id='top'></a>\n",
    "## Tutorial Outline\n",
    "\n",
    "- [Install Packages](#install)\n",
    "- [Imports](#imports)\n",
    "- [Brief Introduction](#intro)\n",
    "- [Why Do We Care About Interpretable Machine Learning?](#interpret)\n",
    "- [What Are Shapley Values?](#shapley-values)\n",
    "- [Acquire data](#acquire)\n",
    "- [Quick Preprocessing/EDA](#eda-preprocessing)\n",
    "- [Preprocessing Pipeline](#pipeline)\n",
    "- [Create a Model: RandomForest](#model)\n",
    "- [Shapley Values in Action](#in-action)\n",
    "    - [Visualize Results](#visualize)\n",
    "- [Fairness and Bias](#fairness-and-bias)"
   ]
  },
  {
   "cell_type": "markdown",
   "metadata": {},
   "source": [
    "---\n",
    "<a id='install'></a>\n",
    "## Install Packages"
   ]
  },
  {
   "cell_type": "code",
   "execution_count": 1,
   "metadata": {},
   "outputs": [],
   "source": [
    "import sys\n",
    "# !conda install -yc conda-forge --prefix {sys.prefix} shap"
   ]
  },
  {
   "cell_type": "markdown",
   "metadata": {},
   "source": [
    "<a id='imports'></a>\n",
    "---\n",
    "## Import Packages"
   ]
  },
  {
   "cell_type": "code",
   "execution_count": 2,
   "metadata": {},
   "outputs": [],
   "source": [
    "import os\n",
    "import shap\n",
    "import numpy as np\n",
    "import pandas as pd\n",
    "import matplotlib.pyplot as plt\n",
    "import seaborn as sns\n",
    "%matplotlib inline\n",
    "\n",
    "from sklearn.model_selection import train_test_split\n",
    "from sklearn.impute import SimpleImputer\n",
    "from sklearn.preprocessing import StandardScaler, OneHotEncoder, OrdinalEncoder, LabelEncoder\n",
    "from sklearn.pipeline import Pipeline, FeatureUnion\n",
    "from sklearn.preprocessing import FunctionTransformer\n",
    "\n",
    "plt.rcParams['figure.figsize'] = (6, 4)\n",
    "plt.rcParams['font.size'] = 12"
   ]
  },
  {
   "cell_type": "markdown",
   "metadata": {},
   "source": [
    "[Back to top](#top)"
   ]
  },
  {
   "cell_type": "markdown",
   "metadata": {},
   "source": [
    "<a id='intro'></a>\n",
    "---\n",
    "## Brief Introduction\n",
    "\n",
    "Before demonstrating how to use Shapley Values for machine learning, let's discuss what they are in the first place. This explanation is based on these two papers:\n",
    "\n",
    "1. [A Unified Approach to Interpreting Model Predictions](http://papers.nips.cc/paper/7062-a-unified-approach-to-interpreting-model-predictions.pdf)\n",
    "2. [Consistent Individualized Feature Attribution for Tree Ensembles](https://arxiv.org/pdf/1802.03888.pdf)\n",
    "\n",
    "#### TL;DR\n",
    "\n",
    "Shapley Values originated in game theory and are named after famed mathematician and Nobel Prize winner, [Lloyd Shapley](https://en.wikipedia.org/wiki/Lloyd_Shapley). The purpose of Shapley Values from a game theory perspective is to solve the problem of assigning appropriate credit to individual players in a cooperative game. In recent years, machine learning researchers have adopted Shapley Values to assign \"credit\" to features for predictions produced by a complex model.\n"
   ]
  },
  {
   "cell_type": "markdown",
   "metadata": {},
   "source": [
    "[Back to top](#top)"
   ]
  },
  {
   "cell_type": "markdown",
   "metadata": {},
   "source": [
    "<a id='interpret'></a>\n",
    "## Why do we care about interpretable machine learning?\n",
    "\n",
    "There are many reasons.\n",
    "\n",
    "- Establish trust in the model\n",
    "- Better understand underlying processes\n",
    "- Provide insights in how to improve the model\n",
    "- Ethics and fairness\n",
    "\n",
    "In addition to Shapley Values, several methods already exist on the market for this purpose:\n",
    "\n",
    "- LIME\n",
    "- DeepLIFT\n",
    "- Layer-Wise Relevance Propagation\n",
    "\n",
    "What sets Shapley Values apart (according to the [the first paper listed above](http://papers.nips.cc/paper/7062-a-unified-approach-to-interpreting-model-predictions.pdf)) is that Shapely values are the only one of these method that satisfy all three of the following feature importance quality requirements:\n",
    "\n",
    "1. **Local Accuracy** - a simple model explaining a complex one around a particular point should produce the same output given the same inputs\n",
    "2. **Missingness** - if a feature is missing in the input space, it should not appear in the feature attribution\n",
    "3. **Consistency** - if a feature is increasing in it's contribution to the outcome, then that feature should increase in it's importance\n",
    "\n",
    "What ends up happening with many of the other methods is that you can come up with counter-examples where you cannot acheive all 3 of these properties at the same time. Shapley Values are the only solution among these that do.\n",
    "\n",
    "[Back to top](#top)"
   ]
  },
  {
   "cell_type": "markdown",
   "metadata": {},
   "source": [
    "<a id='shapley-values'></a>\n",
    "## What are Shapley Values?\n",
    "\n",
    "### Game Theory Context Example: A Soccer Team\n",
    "\n",
    "- 11 players make a team\n",
    "- Well defined positions\n",
    "- Imagine scores range 0-100\n",
    "- Also imagine you have a stadium full of soccer players available\n",
    "\n",
    "**How important are each one of the 11 players to the overall performance of the team?**\n",
    "\n",
    "The problem is that you have 1 outcome (the score) and 11 individuals making contributions.\n",
    "\n",
    "You start with 1 player as the whole team. This is probably not a great team, but the individual might be very good and contribute a `+10` by themself.\n",
    "\n",
    "Then you add in another player, who is a `+9` by themself, but when you add them in, the combined score becomes `21` because of a synergistic effect.\n",
    "\n",
    "Then you add a third player, who is a `+4`. This player alone is not great, but just happens to play well with the other two, so that player contributes a `+8` to the team score.\n",
    "\n",
    "Then you add a fourth player (`+12`), but this player gets into fights with the first two, so only contributes a `+2` to the total score.\n",
    "\n",
    "Then you add a fifth player. And this player is a goalie, which is a very unique position, so this becomes extremely valuable.\n",
    "\n",
    "Now suppose we add a sixth player, who is also a goalie. Well, at this point the team already has a goalie, so it doesn't add much value to add another one, even if this player is very good. The point here is that the value a player adds to the overall outcome depends on who is already there, in addition to the order they are added.\n",
    "\n",
    "We can go on, but you get the point. What we're doing is composing all of these coalitions of teams and measuring the change in contribution as we add in players, all while keeping track of who is already on the team and in which order they are added.\n",
    "\n",
    "The credit attribution becomes complex and large multiplication problem, but the calculation is somewhat straightfoward:\n",
    "\n",
    "    Add up all of the contributions created by each player over every possible coalition composition, then divide by number of scenarios you have and that's the Shapley Value for that specific player.\n",
    "\n",
    "\n",
    "Check out [this link](https://clearcode.cc/blog/game-theory-attribution/) to see the math performed with a simple marketing example."
   ]
  },
  {
   "cell_type": "markdown",
   "metadata": {},
   "source": [
    "### Machine Learning Context\n",
    "\n",
    "\n",
    "**Tie back to ML:**    \n",
    "Swap the soccer score for a model's prediction for a particular case. And instead of creating coalitions of soccer players, we are concerned with which features play the largest role in a particular prediction. This is what Shapley Values do in a machine learning context. Let's grab some data and see it in action.\n",
    "\n",
    "[Back to top](#top)"
   ]
  },
  {
   "cell_type": "markdown",
   "metadata": {},
   "source": [
    "<a id='acquire'></a>\n",
    "## Acquire Data\n",
    "\n",
    "This is Census data from the _UCI Machine Learning Repository_: https://archive.ics.uci.edu/ml/datasets/adult"
   ]
  },
  {
   "cell_type": "code",
   "execution_count": 3,
   "metadata": {},
   "outputs": [],
   "source": [
    "adult = pd.read_csv('https://archive.ics.uci.edu/ml/machine-learning-databases/adult/adult.data',\n",
    "                    na_values=' ?',\n",
    "                    header=None)"
   ]
  },
  {
   "cell_type": "markdown",
   "metadata": {},
   "source": [
    "If the above line hangs, then uncomment the line below"
   ]
  },
  {
   "cell_type": "code",
   "execution_count": 4,
   "metadata": {},
   "outputs": [],
   "source": [
    "# adult = pd.read_csv('./datasets/adult.data.txt', header=None, na_values=' ?')"
   ]
  },
  {
   "cell_type": "markdown",
   "metadata": {},
   "source": [
    "[Back to top](#top)"
   ]
  },
  {
   "cell_type": "markdown",
   "metadata": {},
   "source": [
    "<a id='eda-preprocessing'></a>\n",
    "## Quick Preprocessing/EDA\n",
    "\n",
    "- Add column headers\n",
    "- Understand dataset\n",
    "    - how many rows/columns?\n",
    "    - what does a row represent?\n",
    "    - what is our target variable?\n",
    "- Check for missing values\n",
    "- Check data types\n",
    "- Check for unbalanced target variable"
   ]
  },
  {
   "cell_type": "code",
   "execution_count": 5,
   "metadata": {},
   "outputs": [
    {
     "data": {
      "text/html": [
       "<div>\n",
       "<style scoped>\n",
       "    .dataframe tbody tr th:only-of-type {\n",
       "        vertical-align: middle;\n",
       "    }\n",
       "\n",
       "    .dataframe tbody tr th {\n",
       "        vertical-align: top;\n",
       "    }\n",
       "\n",
       "    .dataframe thead th {\n",
       "        text-align: right;\n",
       "    }\n",
       "</style>\n",
       "<table border=\"1\" class=\"dataframe\">\n",
       "  <thead>\n",
       "    <tr style=\"text-align: right;\">\n",
       "      <th></th>\n",
       "      <th>0</th>\n",
       "      <th>1</th>\n",
       "      <th>2</th>\n",
       "      <th>3</th>\n",
       "      <th>4</th>\n",
       "      <th>5</th>\n",
       "      <th>6</th>\n",
       "      <th>7</th>\n",
       "      <th>8</th>\n",
       "      <th>9</th>\n",
       "      <th>10</th>\n",
       "      <th>11</th>\n",
       "      <th>12</th>\n",
       "      <th>13</th>\n",
       "      <th>14</th>\n",
       "    </tr>\n",
       "  </thead>\n",
       "  <tbody>\n",
       "    <tr>\n",
       "      <th>0</th>\n",
       "      <td>39</td>\n",
       "      <td>State-gov</td>\n",
       "      <td>77516</td>\n",
       "      <td>Bachelors</td>\n",
       "      <td>13</td>\n",
       "      <td>Never-married</td>\n",
       "      <td>Adm-clerical</td>\n",
       "      <td>Not-in-family</td>\n",
       "      <td>White</td>\n",
       "      <td>Male</td>\n",
       "      <td>2174</td>\n",
       "      <td>0</td>\n",
       "      <td>40</td>\n",
       "      <td>United-States</td>\n",
       "      <td>&lt;=50K</td>\n",
       "    </tr>\n",
       "    <tr>\n",
       "      <th>1</th>\n",
       "      <td>50</td>\n",
       "      <td>Self-emp-not-inc</td>\n",
       "      <td>83311</td>\n",
       "      <td>Bachelors</td>\n",
       "      <td>13</td>\n",
       "      <td>Married-civ-spouse</td>\n",
       "      <td>Exec-managerial</td>\n",
       "      <td>Husband</td>\n",
       "      <td>White</td>\n",
       "      <td>Male</td>\n",
       "      <td>0</td>\n",
       "      <td>0</td>\n",
       "      <td>13</td>\n",
       "      <td>United-States</td>\n",
       "      <td>&lt;=50K</td>\n",
       "    </tr>\n",
       "    <tr>\n",
       "      <th>2</th>\n",
       "      <td>38</td>\n",
       "      <td>Private</td>\n",
       "      <td>215646</td>\n",
       "      <td>HS-grad</td>\n",
       "      <td>9</td>\n",
       "      <td>Divorced</td>\n",
       "      <td>Handlers-cleaners</td>\n",
       "      <td>Not-in-family</td>\n",
       "      <td>White</td>\n",
       "      <td>Male</td>\n",
       "      <td>0</td>\n",
       "      <td>0</td>\n",
       "      <td>40</td>\n",
       "      <td>United-States</td>\n",
       "      <td>&lt;=50K</td>\n",
       "    </tr>\n",
       "    <tr>\n",
       "      <th>3</th>\n",
       "      <td>53</td>\n",
       "      <td>Private</td>\n",
       "      <td>234721</td>\n",
       "      <td>11th</td>\n",
       "      <td>7</td>\n",
       "      <td>Married-civ-spouse</td>\n",
       "      <td>Handlers-cleaners</td>\n",
       "      <td>Husband</td>\n",
       "      <td>Black</td>\n",
       "      <td>Male</td>\n",
       "      <td>0</td>\n",
       "      <td>0</td>\n",
       "      <td>40</td>\n",
       "      <td>United-States</td>\n",
       "      <td>&lt;=50K</td>\n",
       "    </tr>\n",
       "    <tr>\n",
       "      <th>4</th>\n",
       "      <td>28</td>\n",
       "      <td>Private</td>\n",
       "      <td>338409</td>\n",
       "      <td>Bachelors</td>\n",
       "      <td>13</td>\n",
       "      <td>Married-civ-spouse</td>\n",
       "      <td>Prof-specialty</td>\n",
       "      <td>Wife</td>\n",
       "      <td>Black</td>\n",
       "      <td>Female</td>\n",
       "      <td>0</td>\n",
       "      <td>0</td>\n",
       "      <td>40</td>\n",
       "      <td>Cuba</td>\n",
       "      <td>&lt;=50K</td>\n",
       "    </tr>\n",
       "  </tbody>\n",
       "</table>\n",
       "</div>"
      ],
      "text/plain": [
       "   0                  1       2           3   4                    5   \\\n",
       "0  39          State-gov   77516   Bachelors  13        Never-married   \n",
       "1  50   Self-emp-not-inc   83311   Bachelors  13   Married-civ-spouse   \n",
       "2  38            Private  215646     HS-grad   9             Divorced   \n",
       "3  53            Private  234721        11th   7   Married-civ-spouse   \n",
       "4  28            Private  338409   Bachelors  13   Married-civ-spouse   \n",
       "\n",
       "                   6               7       8        9     10  11  12  \\\n",
       "0        Adm-clerical   Not-in-family   White     Male  2174   0  40   \n",
       "1     Exec-managerial         Husband   White     Male     0   0  13   \n",
       "2   Handlers-cleaners   Not-in-family   White     Male     0   0  40   \n",
       "3   Handlers-cleaners         Husband   Black     Male     0   0  40   \n",
       "4      Prof-specialty            Wife   Black   Female     0   0  40   \n",
       "\n",
       "               13      14  \n",
       "0   United-States   <=50K  \n",
       "1   United-States   <=50K  \n",
       "2   United-States   <=50K  \n",
       "3   United-States   <=50K  \n",
       "4            Cuba   <=50K  "
      ]
     },
     "execution_count": 5,
     "metadata": {},
     "output_type": "execute_result"
    }
   ],
   "source": [
    "adult.head()"
   ]
  },
  {
   "cell_type": "markdown",
   "metadata": {},
   "source": [
    "### Add Column Headers\n",
    "\n",
    "**FEATURES**\n",
    "\n",
    "1. `age`: continuous.\n",
    "2. `workclass`: Private, Self-emp-not-inc, Self-emp-inc, Federal-gov, Local-gov, State-gov, Without-pay, Never-worked.\n",
    "3. `fnlwgt`: continuous.\n",
    "4. `education`: Bachelors, Some-college, 11th, HS-grad, Prof-school, Assoc-acdm, Assoc-voc, 9th, 7th-8th, 12th, Masters, 1st-4th, 10th, Doctorate, 5th-6th, Preschool.\n",
    "5. `education-num`: continuous.\n",
    "6. `marital-status`: Married-civ-spouse, Divorced, Never-married, Separated, Widowed, Married-spouse-absent, Married-AF-spouse.\n",
    "7. `occupation`: Tech-support, Craft-repair, Other-service, Sales, Exec-managerial, Prof-specialty, Handlers-cleaners, Machine-op-inspct, Adm-clerical, Farming-fishing, Transport-moving, Priv-house-serv, Protective-serv, Armed-Forces.\n",
    "relationship: Wife, Own-child, Husband, Not-in-family, Other-relative, Unmarried.\n",
    "8. `race`: White, Asian-Pac-Islander, Amer-Indian-Eskimo, Other, Black.\n",
    "9. `sex`: Female, Male.\n",
    "10. `capital-gain`: continuous.\n",
    "11. `capital-loss`: continuousm\n",
    "12. `hours-per-week`: continuous.\n",
    "13. `native-country`: United-States, Cambodia, England, Puerto-Rico, Canada, Germany, Outlying-US(Guam-USVI-etc), India, Japan, Greece, South, China, Cuba, Iran, Honduras, Philippines, Italy, Poland, Jamaica, Vietnam, Mexico, Portugal, Ireland, France, Dominican-Republic, Laos, Ecuador, Taiwan, Haiti, Columbia, Hungary, Guatemala, Nicaragua, Scotland, Thailand, Yugoslavia, El-Salvador, Trinadad&Tobago, Peru, Hong, Holand-Netherlands."
   ]
  },
  {
   "cell_type": "code",
   "execution_count": 6,
   "metadata": {},
   "outputs": [],
   "source": [
    "features = [\n",
    "    'age',\n",
    "    'workclass',\n",
    "    'fnlwgt',\n",
    "    'education',\n",
    "    'education_num',\n",
    "    'marital_status',\n",
    "    'occupation',\n",
    "    'relationship',\n",
    "    'race',\n",
    "    'sex',\n",
    "    'capital_gain',\n",
    "    'capital_loss',\n",
    "    'hours_per_week',\n",
    "    'native_country',\n",
    "    'income',\n",
    "]"
   ]
  },
  {
   "cell_type": "code",
   "execution_count": 7,
   "metadata": {},
   "outputs": [
    {
     "data": {
      "text/html": [
       "<div>\n",
       "<style scoped>\n",
       "    .dataframe tbody tr th:only-of-type {\n",
       "        vertical-align: middle;\n",
       "    }\n",
       "\n",
       "    .dataframe tbody tr th {\n",
       "        vertical-align: top;\n",
       "    }\n",
       "\n",
       "    .dataframe thead th {\n",
       "        text-align: right;\n",
       "    }\n",
       "</style>\n",
       "<table border=\"1\" class=\"dataframe\">\n",
       "  <thead>\n",
       "    <tr style=\"text-align: right;\">\n",
       "      <th></th>\n",
       "      <th>age</th>\n",
       "      <th>workclass</th>\n",
       "      <th>fnlwgt</th>\n",
       "      <th>education</th>\n",
       "      <th>education_num</th>\n",
       "      <th>marital_status</th>\n",
       "      <th>occupation</th>\n",
       "      <th>relationship</th>\n",
       "      <th>race</th>\n",
       "      <th>sex</th>\n",
       "      <th>capital_gain</th>\n",
       "      <th>capital_loss</th>\n",
       "      <th>hours_per_week</th>\n",
       "      <th>native_country</th>\n",
       "      <th>income</th>\n",
       "    </tr>\n",
       "  </thead>\n",
       "  <tbody>\n",
       "    <tr>\n",
       "      <th>0</th>\n",
       "      <td>39</td>\n",
       "      <td>State-gov</td>\n",
       "      <td>77516</td>\n",
       "      <td>Bachelors</td>\n",
       "      <td>13</td>\n",
       "      <td>Never-married</td>\n",
       "      <td>Adm-clerical</td>\n",
       "      <td>Not-in-family</td>\n",
       "      <td>White</td>\n",
       "      <td>Male</td>\n",
       "      <td>2174</td>\n",
       "      <td>0</td>\n",
       "      <td>40</td>\n",
       "      <td>United-States</td>\n",
       "      <td>&lt;=50K</td>\n",
       "    </tr>\n",
       "    <tr>\n",
       "      <th>1</th>\n",
       "      <td>50</td>\n",
       "      <td>Self-emp-not-inc</td>\n",
       "      <td>83311</td>\n",
       "      <td>Bachelors</td>\n",
       "      <td>13</td>\n",
       "      <td>Married-civ-spouse</td>\n",
       "      <td>Exec-managerial</td>\n",
       "      <td>Husband</td>\n",
       "      <td>White</td>\n",
       "      <td>Male</td>\n",
       "      <td>0</td>\n",
       "      <td>0</td>\n",
       "      <td>13</td>\n",
       "      <td>United-States</td>\n",
       "      <td>&lt;=50K</td>\n",
       "    </tr>\n",
       "    <tr>\n",
       "      <th>2</th>\n",
       "      <td>38</td>\n",
       "      <td>Private</td>\n",
       "      <td>215646</td>\n",
       "      <td>HS-grad</td>\n",
       "      <td>9</td>\n",
       "      <td>Divorced</td>\n",
       "      <td>Handlers-cleaners</td>\n",
       "      <td>Not-in-family</td>\n",
       "      <td>White</td>\n",
       "      <td>Male</td>\n",
       "      <td>0</td>\n",
       "      <td>0</td>\n",
       "      <td>40</td>\n",
       "      <td>United-States</td>\n",
       "      <td>&lt;=50K</td>\n",
       "    </tr>\n",
       "    <tr>\n",
       "      <th>3</th>\n",
       "      <td>53</td>\n",
       "      <td>Private</td>\n",
       "      <td>234721</td>\n",
       "      <td>11th</td>\n",
       "      <td>7</td>\n",
       "      <td>Married-civ-spouse</td>\n",
       "      <td>Handlers-cleaners</td>\n",
       "      <td>Husband</td>\n",
       "      <td>Black</td>\n",
       "      <td>Male</td>\n",
       "      <td>0</td>\n",
       "      <td>0</td>\n",
       "      <td>40</td>\n",
       "      <td>United-States</td>\n",
       "      <td>&lt;=50K</td>\n",
       "    </tr>\n",
       "    <tr>\n",
       "      <th>4</th>\n",
       "      <td>28</td>\n",
       "      <td>Private</td>\n",
       "      <td>338409</td>\n",
       "      <td>Bachelors</td>\n",
       "      <td>13</td>\n",
       "      <td>Married-civ-spouse</td>\n",
       "      <td>Prof-specialty</td>\n",
       "      <td>Wife</td>\n",
       "      <td>Black</td>\n",
       "      <td>Female</td>\n",
       "      <td>0</td>\n",
       "      <td>0</td>\n",
       "      <td>40</td>\n",
       "      <td>Cuba</td>\n",
       "      <td>&lt;=50K</td>\n",
       "    </tr>\n",
       "  </tbody>\n",
       "</table>\n",
       "</div>"
      ],
      "text/plain": [
       "   age          workclass  fnlwgt   education  education_num  \\\n",
       "0   39          State-gov   77516   Bachelors             13   \n",
       "1   50   Self-emp-not-inc   83311   Bachelors             13   \n",
       "2   38            Private  215646     HS-grad              9   \n",
       "3   53            Private  234721        11th              7   \n",
       "4   28            Private  338409   Bachelors             13   \n",
       "\n",
       "        marital_status          occupation    relationship    race      sex  \\\n",
       "0        Never-married        Adm-clerical   Not-in-family   White     Male   \n",
       "1   Married-civ-spouse     Exec-managerial         Husband   White     Male   \n",
       "2             Divorced   Handlers-cleaners   Not-in-family   White     Male   \n",
       "3   Married-civ-spouse   Handlers-cleaners         Husband   Black     Male   \n",
       "4   Married-civ-spouse      Prof-specialty            Wife   Black   Female   \n",
       "\n",
       "   capital_gain  capital_loss  hours_per_week  native_country  income  \n",
       "0          2174             0              40   United-States   <=50K  \n",
       "1             0             0              13   United-States   <=50K  \n",
       "2             0             0              40   United-States   <=50K  \n",
       "3             0             0              40   United-States   <=50K  \n",
       "4             0             0              40            Cuba   <=50K  "
      ]
     },
     "execution_count": 7,
     "metadata": {},
     "output_type": "execute_result"
    }
   ],
   "source": [
    "# assign column names\n",
    "adult.columns = features\n",
    "adult.head()"
   ]
  },
  {
   "cell_type": "code",
   "execution_count": 8,
   "metadata": {},
   "outputs": [
    {
     "data": {
      "text/plain": [
       "(32561, 15)"
      ]
     },
     "execution_count": 8,
     "metadata": {},
     "output_type": "execute_result"
    }
   ],
   "source": [
    "# how many rows a columns?\n",
    "adult.shape"
   ]
  },
  {
   "cell_type": "code",
   "execution_count": 9,
   "metadata": {},
   "outputs": [
    {
     "data": {
      "text/plain": [
       "age                  0\n",
       "workclass         1836\n",
       "fnlwgt               0\n",
       "education            0\n",
       "education_num        0\n",
       "marital_status       0\n",
       "occupation        1843\n",
       "relationship         0\n",
       "race                 0\n",
       "sex                  0\n",
       "capital_gain         0\n",
       "capital_loss         0\n",
       "hours_per_week       0\n",
       "native_country     583\n",
       "income               0\n",
       "dtype: int64"
      ]
     },
     "execution_count": 9,
     "metadata": {},
     "output_type": "execute_result"
    }
   ],
   "source": [
    "# any missing values?\n",
    "adult.isnull().sum()"
   ]
  },
  {
   "cell_type": "code",
   "execution_count": 10,
   "metadata": {},
   "outputs": [
    {
     "data": {
      "text/plain": [
       "age                int64\n",
       "workclass         object\n",
       "fnlwgt             int64\n",
       "education         object\n",
       "education_num      int64\n",
       "marital_status    object\n",
       "occupation        object\n",
       "relationship      object\n",
       "race              object\n",
       "sex               object\n",
       "capital_gain       int64\n",
       "capital_loss       int64\n",
       "hours_per_week     int64\n",
       "native_country    object\n",
       "income            object\n",
       "dtype: object"
      ]
     },
     "execution_count": 10,
     "metadata": {},
     "output_type": "execute_result"
    }
   ],
   "source": [
    "# what are the data types?\n",
    "adult.dtypes"
   ]
  },
  {
   "cell_type": "code",
   "execution_count": 11,
   "metadata": {},
   "outputs": [
    {
     "data": {
      "text/plain": [
       " <=50K    24720\n",
       " >50K      7841\n",
       "Name: income, dtype: int64"
      ]
     },
     "execution_count": 11,
     "metadata": {},
     "output_type": "execute_result"
    }
   ],
   "source": [
    "# what is the distribution of our target variable?\n",
    "adult['income'].value_counts()"
   ]
  },
  {
   "cell_type": "markdown",
   "metadata": {},
   "source": [
    "[Back to top](#top)"
   ]
  },
  {
   "cell_type": "markdown",
   "metadata": {},
   "source": [
    "<a id='pipeline'></a>\n",
    "## Preprocessing\n",
    "\n",
    "In the interest of time, I packaged these preprocessing steps into `Pipelines`.\n",
    "\n",
    "**PREPROCESSING STEPS**\n",
    "1. Separate target variable from features - sklearn requires this.\n",
    "2. Peform a train-test split - Always do this before manipulating dataset\n",
    "3. With training data:\n",
    "    - **SEPARATE** numeric columns from categorical ones\n",
    "    - **NUMERIC DF** preprocessing:\n",
    "        - Replace nan values\n",
    "        - Standardize features\n",
    "   \n",
    "    - **CATEGORICAL DF** preprocessing:\n",
    "        - Replace nan values\n",
    "        - Create dummy variables\n",
    "    - **CONCATENATE** numeric and categorical DF\n",
    "    - **ENCODE** target variable\n",
    "<br>\n",
    "<br>\n",
    "4. Package these steps into a `Pipeline`"
   ]
  },
  {
   "cell_type": "code",
   "execution_count": 12,
   "metadata": {},
   "outputs": [],
   "source": [
    "# make a list of numeric and categorical column names\n",
    "num_cols = [col for col in adult.columns if adult[col].dtype != 'object']\n",
    "cat_cols = [col for col in adult.columns if col not in num_cols + ['income']]\n",
    "\n",
    "# separate features from target variable\n",
    "X = adult.drop('income', axis=1)\n",
    "y = adult['income']\n",
    "\n",
    "# perform a train-test split.... why? stratify on y?\n",
    "X_train, X_test, y_train, y_test = train_test_split(\n",
    "    X,\n",
    "    y,\n",
    "    test_size=0.3,\n",
    "    stratify=y,\n",
    "    random_state=24\n",
    ")\n",
    "\n",
    "def feature_extractor(df):\n",
    "    return df.drop('income', axis=1)\n",
    "\n",
    "\n",
    "def categorical_extractor(df):\n",
    "    return df.select_dtypes(include=['object'])\n",
    "\n",
    "\n",
    "def numeric_extractor(df):\n",
    "    return df.select_dtypes(exclude=['object'])\n",
    "\n",
    "# create custom transformers\n",
    "cat_transformer = FunctionTransformer(categorical_extractor, validate=False)\n",
    "num_transformer = FunctionTransformer(numeric_extractor, validate=False)\n",
    "\n",
    "# make numeric pipe\n",
    "num_pipe = Pipeline([\n",
    "    ('numeric_transformer', num_transformer),\n",
    "    ('num_im', SimpleImputer(strategy='median')),\n",
    "    ('StandardScaler', StandardScaler())\n",
    "])\n",
    "\n",
    "# make categorical pipe\n",
    "cat_pipe = Pipeline([\n",
    "    ('cat_transformer', cat_transformer),\n",
    "    ('cat_im', SimpleImputer(strategy='most_frequent')),\n",
    "    ('OrdinalEncoder', OrdinalEncoder())\n",
    "])\n",
    "\n",
    "\n",
    "# make FeatureUnion\n",
    "feat_union = FeatureUnion([\n",
    "    ('num_pipe', num_pipe),\n",
    "    ('cat_pipe', cat_pipe)\n",
    "])\n",
    "\n",
    "# make final feature pipe\n",
    "feature_pipe = Pipeline([\n",
    "    ('feat_union', feat_union)\n",
    "])"
   ]
  },
  {
   "cell_type": "markdown",
   "metadata": {},
   "source": [
    "#### Use this pipeline to _fit_ and _transform_ `X_train`"
   ]
  },
  {
   "cell_type": "code",
   "execution_count": 13,
   "metadata": {},
   "outputs": [
    {
     "data": {
      "text/html": [
       "<div>\n",
       "<style scoped>\n",
       "    .dataframe tbody tr th:only-of-type {\n",
       "        vertical-align: middle;\n",
       "    }\n",
       "\n",
       "    .dataframe tbody tr th {\n",
       "        vertical-align: top;\n",
       "    }\n",
       "\n",
       "    .dataframe thead th {\n",
       "        text-align: right;\n",
       "    }\n",
       "</style>\n",
       "<table border=\"1\" class=\"dataframe\">\n",
       "  <thead>\n",
       "    <tr style=\"text-align: right;\">\n",
       "      <th></th>\n",
       "      <th>age</th>\n",
       "      <th>workclass</th>\n",
       "      <th>fnlwgt</th>\n",
       "      <th>education</th>\n",
       "      <th>education_num</th>\n",
       "      <th>marital_status</th>\n",
       "      <th>occupation</th>\n",
       "      <th>relationship</th>\n",
       "      <th>race</th>\n",
       "      <th>sex</th>\n",
       "      <th>capital_gain</th>\n",
       "      <th>capital_loss</th>\n",
       "      <th>hours_per_week</th>\n",
       "      <th>native_country</th>\n",
       "    </tr>\n",
       "  </thead>\n",
       "  <tbody>\n",
       "    <tr>\n",
       "      <th>10348</th>\n",
       "      <td>-0.924812</td>\n",
       "      <td>0.012344</td>\n",
       "      <td>1.133671</td>\n",
       "      <td>-0.146749</td>\n",
       "      <td>-0.214716</td>\n",
       "      <td>-0.843279</td>\n",
       "      <td>3.0</td>\n",
       "      <td>9.0</td>\n",
       "      <td>4.0</td>\n",
       "      <td>7.0</td>\n",
       "      <td>1.0</td>\n",
       "      <td>4.0</td>\n",
       "      <td>1.0</td>\n",
       "      <td>38.0</td>\n",
       "    </tr>\n",
       "    <tr>\n",
       "      <th>11062</th>\n",
       "      <td>1.712486</td>\n",
       "      <td>2.162427</td>\n",
       "      <td>-1.198581</td>\n",
       "      <td>-0.146749</td>\n",
       "      <td>-0.214716</td>\n",
       "      <td>-1.572986</td>\n",
       "      <td>3.0</td>\n",
       "      <td>1.0</td>\n",
       "      <td>5.0</td>\n",
       "      <td>7.0</td>\n",
       "      <td>1.0</td>\n",
       "      <td>2.0</td>\n",
       "      <td>0.0</td>\n",
       "      <td>38.0</td>\n",
       "    </tr>\n",
       "    <tr>\n",
       "      <th>25734</th>\n",
       "      <td>-1.144586</td>\n",
       "      <td>2.329859</td>\n",
       "      <td>-0.421164</td>\n",
       "      <td>-0.146749</td>\n",
       "      <td>-0.214716</td>\n",
       "      <td>0.616136</td>\n",
       "      <td>3.0</td>\n",
       "      <td>11.0</td>\n",
       "      <td>4.0</td>\n",
       "      <td>11.0</td>\n",
       "      <td>1.0</td>\n",
       "      <td>4.0</td>\n",
       "      <td>1.0</td>\n",
       "      <td>38.0</td>\n",
       "    </tr>\n",
       "    <tr>\n",
       "      <th>401</th>\n",
       "      <td>-0.778295</td>\n",
       "      <td>-0.763740</td>\n",
       "      <td>-0.032455</td>\n",
       "      <td>-0.146749</td>\n",
       "      <td>-0.214716</td>\n",
       "      <td>-0.032493</td>\n",
       "      <td>3.0</td>\n",
       "      <td>15.0</td>\n",
       "      <td>4.0</td>\n",
       "      <td>7.0</td>\n",
       "      <td>1.0</td>\n",
       "      <td>4.0</td>\n",
       "      <td>0.0</td>\n",
       "      <td>38.0</td>\n",
       "    </tr>\n",
       "    <tr>\n",
       "      <th>28063</th>\n",
       "      <td>1.126420</td>\n",
       "      <td>1.600147</td>\n",
       "      <td>1.133671</td>\n",
       "      <td>0.844477</td>\n",
       "      <td>-0.214716</td>\n",
       "      <td>1.183686</td>\n",
       "      <td>4.0</td>\n",
       "      <td>9.0</td>\n",
       "      <td>2.0</td>\n",
       "      <td>3.0</td>\n",
       "      <td>0.0</td>\n",
       "      <td>4.0</td>\n",
       "      <td>1.0</td>\n",
       "      <td>38.0</td>\n",
       "    </tr>\n",
       "  </tbody>\n",
       "</table>\n",
       "</div>"
      ],
      "text/plain": [
       "            age  workclass    fnlwgt  education  education_num  \\\n",
       "10348 -0.924812   0.012344  1.133671  -0.146749      -0.214716   \n",
       "11062  1.712486   2.162427 -1.198581  -0.146749      -0.214716   \n",
       "25734 -1.144586   2.329859 -0.421164  -0.146749      -0.214716   \n",
       "401   -0.778295  -0.763740 -0.032455  -0.146749      -0.214716   \n",
       "28063  1.126420   1.600147  1.133671   0.844477      -0.214716   \n",
       "\n",
       "       marital_status  occupation  relationship  race   sex  capital_gain  \\\n",
       "10348       -0.843279         3.0           9.0   4.0   7.0           1.0   \n",
       "11062       -1.572986         3.0           1.0   5.0   7.0           1.0   \n",
       "25734        0.616136         3.0          11.0   4.0  11.0           1.0   \n",
       "401         -0.032493         3.0          15.0   4.0   7.0           1.0   \n",
       "28063        1.183686         4.0           9.0   2.0   3.0           0.0   \n",
       "\n",
       "       capital_loss  hours_per_week  native_country  \n",
       "10348           4.0             1.0            38.0  \n",
       "11062           2.0             0.0            38.0  \n",
       "25734           4.0             1.0            38.0  \n",
       "401             4.0             0.0            38.0  \n",
       "28063           4.0             1.0            38.0  "
      ]
     },
     "execution_count": 13,
     "metadata": {},
     "output_type": "execute_result"
    }
   ],
   "source": [
    "# fit and transform training data\n",
    "X_train_prepared = pd.DataFrame(\n",
    "    feature_pipe.fit(X_train).transform(X_train),\n",
    "    index=X_train.index,\n",
    "    columns=X_train.columns)\n",
    "X_train_prepared.head()"
   ]
  },
  {
   "cell_type": "code",
   "execution_count": 14,
   "metadata": {},
   "outputs": [
    {
     "data": {
      "text/html": [
       "<div>\n",
       "<style scoped>\n",
       "    .dataframe tbody tr th:only-of-type {\n",
       "        vertical-align: middle;\n",
       "    }\n",
       "\n",
       "    .dataframe tbody tr th {\n",
       "        vertical-align: top;\n",
       "    }\n",
       "\n",
       "    .dataframe thead th {\n",
       "        text-align: right;\n",
       "    }\n",
       "</style>\n",
       "<table border=\"1\" class=\"dataframe\">\n",
       "  <thead>\n",
       "    <tr style=\"text-align: right;\">\n",
       "      <th></th>\n",
       "      <th>age</th>\n",
       "      <th>workclass</th>\n",
       "      <th>fnlwgt</th>\n",
       "      <th>education</th>\n",
       "      <th>education_num</th>\n",
       "      <th>marital_status</th>\n",
       "      <th>occupation</th>\n",
       "      <th>relationship</th>\n",
       "      <th>race</th>\n",
       "      <th>sex</th>\n",
       "      <th>capital_gain</th>\n",
       "      <th>capital_loss</th>\n",
       "      <th>hours_per_week</th>\n",
       "      <th>native_country</th>\n",
       "    </tr>\n",
       "  </thead>\n",
       "  <tbody>\n",
       "    <tr>\n",
       "      <th>2093</th>\n",
       "      <td>0.906645</td>\n",
       "      <td>-0.129961</td>\n",
       "      <td>1.133671</td>\n",
       "      <td>-0.146749</td>\n",
       "      <td>-0.214716</td>\n",
       "      <td>0.535058</td>\n",
       "      <td>3.0</td>\n",
       "      <td>9.0</td>\n",
       "      <td>2.0</td>\n",
       "      <td>11.0</td>\n",
       "      <td>0.0</td>\n",
       "      <td>4.0</td>\n",
       "      <td>1.0</td>\n",
       "      <td>38.0</td>\n",
       "    </tr>\n",
       "    <tr>\n",
       "      <th>29473</th>\n",
       "      <td>-1.437619</td>\n",
       "      <td>1.329928</td>\n",
       "      <td>-1.198581</td>\n",
       "      <td>-0.146749</td>\n",
       "      <td>-0.214716</td>\n",
       "      <td>-0.032493</td>\n",
       "      <td>3.0</td>\n",
       "      <td>1.0</td>\n",
       "      <td>5.0</td>\n",
       "      <td>7.0</td>\n",
       "      <td>3.0</td>\n",
       "      <td>4.0</td>\n",
       "      <td>0.0</td>\n",
       "      <td>38.0</td>\n",
       "    </tr>\n",
       "    <tr>\n",
       "      <th>14123</th>\n",
       "      <td>0.174062</td>\n",
       "      <td>1.430095</td>\n",
       "      <td>-2.753415</td>\n",
       "      <td>-0.146749</td>\n",
       "      <td>-0.214716</td>\n",
       "      <td>-0.032493</td>\n",
       "      <td>3.0</td>\n",
       "      <td>4.0</td>\n",
       "      <td>2.0</td>\n",
       "      <td>9.0</td>\n",
       "      <td>0.0</td>\n",
       "      <td>4.0</td>\n",
       "      <td>1.0</td>\n",
       "      <td>25.0</td>\n",
       "    </tr>\n",
       "    <tr>\n",
       "      <th>10193</th>\n",
       "      <td>0.906645</td>\n",
       "      <td>-1.536521</td>\n",
       "      <td>-0.421164</td>\n",
       "      <td>-0.146749</td>\n",
       "      <td>-0.214716</td>\n",
       "      <td>-0.032493</td>\n",
       "      <td>0.0</td>\n",
       "      <td>11.0</td>\n",
       "      <td>2.0</td>\n",
       "      <td>12.0</td>\n",
       "      <td>0.0</td>\n",
       "      <td>4.0</td>\n",
       "      <td>1.0</td>\n",
       "      <td>38.0</td>\n",
       "    </tr>\n",
       "    <tr>\n",
       "      <th>18789</th>\n",
       "      <td>0.320579</td>\n",
       "      <td>1.045784</td>\n",
       "      <td>-0.032455</td>\n",
       "      <td>-0.146749</td>\n",
       "      <td>-0.214716</td>\n",
       "      <td>-0.032493</td>\n",
       "      <td>3.0</td>\n",
       "      <td>15.0</td>\n",
       "      <td>2.0</td>\n",
       "      <td>0.0</td>\n",
       "      <td>0.0</td>\n",
       "      <td>4.0</td>\n",
       "      <td>1.0</td>\n",
       "      <td>38.0</td>\n",
       "    </tr>\n",
       "  </tbody>\n",
       "</table>\n",
       "</div>"
      ],
      "text/plain": [
       "            age  workclass    fnlwgt  education  education_num  \\\n",
       "2093   0.906645  -0.129961  1.133671  -0.146749      -0.214716   \n",
       "29473 -1.437619   1.329928 -1.198581  -0.146749      -0.214716   \n",
       "14123  0.174062   1.430095 -2.753415  -0.146749      -0.214716   \n",
       "10193  0.906645  -1.536521 -0.421164  -0.146749      -0.214716   \n",
       "18789  0.320579   1.045784 -0.032455  -0.146749      -0.214716   \n",
       "\n",
       "       marital_status  occupation  relationship  race   sex  capital_gain  \\\n",
       "2093         0.535058         3.0           9.0   2.0  11.0           0.0   \n",
       "29473       -0.032493         3.0           1.0   5.0   7.0           3.0   \n",
       "14123       -0.032493         3.0           4.0   2.0   9.0           0.0   \n",
       "10193       -0.032493         0.0          11.0   2.0  12.0           0.0   \n",
       "18789       -0.032493         3.0          15.0   2.0   0.0           0.0   \n",
       "\n",
       "       capital_loss  hours_per_week  native_country  \n",
       "2093            4.0             1.0            38.0  \n",
       "29473           4.0             0.0            38.0  \n",
       "14123           4.0             1.0            25.0  \n",
       "10193           4.0             1.0            38.0  \n",
       "18789           4.0             1.0            38.0  "
      ]
     },
     "execution_count": 14,
     "metadata": {},
     "output_type": "execute_result"
    }
   ],
   "source": [
    "# transform testing data\n",
    "X_test_prepared = pd.DataFrame(\n",
    "    feature_pipe.transform(X_test),\n",
    "    index=X_test.index,\n",
    "    columns=X_test.columns)\n",
    "X_test_prepared.head()"
   ]
  },
  {
   "cell_type": "markdown",
   "metadata": {},
   "source": [
    "#### Use `LabelEncoder` to transform the `income` to be numeric"
   ]
  },
  {
   "cell_type": "code",
   "execution_count": 15,
   "metadata": {},
   "outputs": [
    {
     "data": {
      "text/plain": [
       "10348     <=50K\n",
       "11062     <=50K\n",
       "25734     <=50K\n",
       "401       <=50K\n",
       "28063      >50K\n",
       "Name: income, dtype: object"
      ]
     },
     "execution_count": 15,
     "metadata": {},
     "output_type": "execute_result"
    }
   ],
   "source": [
    "y_train[:5]"
   ]
  },
  {
   "cell_type": "code",
   "execution_count": 16,
   "metadata": {},
   "outputs": [
    {
     "data": {
      "text/plain": [
       "10348    0\n",
       "11062    0\n",
       "25734    0\n",
       "401      0\n",
       "28063    1\n",
       "dtype: int64"
      ]
     },
     "execution_count": 16,
     "metadata": {},
     "output_type": "execute_result"
    }
   ],
   "source": [
    "# fit and transform y_train\n",
    "le = LabelEncoder()\n",
    "y_train_encoded = pd.Series(le.fit_transform(y_train), index=y_train.index)\n",
    "y_train_encoded[:5]"
   ]
  },
  {
   "cell_type": "code",
   "execution_count": 17,
   "metadata": {},
   "outputs": [
    {
     "data": {
      "text/plain": [
       "2093     1\n",
       "29473    0\n",
       "14123    0\n",
       "10193    0\n",
       "18789    0\n",
       "dtype: int64"
      ]
     },
     "execution_count": 17,
     "metadata": {},
     "output_type": "execute_result"
    }
   ],
   "source": [
    "# transform y_test\n",
    "y_test_encoded = pd.Series(le.transform(y_test), index=y_test.index)\n",
    "y_test_encoded[:5]"
   ]
  },
  {
   "cell_type": "markdown",
   "metadata": {},
   "source": [
    "#### Calculate Baseline"
   ]
  },
  {
   "cell_type": "code",
   "execution_count": 18,
   "metadata": {},
   "outputs": [
    {
     "data": {
      "text/plain": [
       "0.7592384072064694"
      ]
     },
     "execution_count": 18,
     "metadata": {},
     "output_type": "execute_result"
    }
   ],
   "source": [
    "y_test_encoded.value_counts()[0] / y_test_encoded.value_counts().sum()"
   ]
  },
  {
   "cell_type": "markdown",
   "metadata": {},
   "source": [
    "[Back to top](#top)"
   ]
  },
  {
   "cell_type": "markdown",
   "metadata": {},
   "source": [
    "<a id='model'></a>\n",
    "## Create a Model: `RandomForest`"
   ]
  },
  {
   "cell_type": "code",
   "execution_count": 19,
   "metadata": {},
   "outputs": [],
   "source": [
    "from sklearn.ensemble import RandomForestClassifier\n",
    "from sklearn.metrics import classification_report, accuracy_score"
   ]
  },
  {
   "cell_type": "code",
   "execution_count": null,
   "metadata": {},
   "outputs": [],
   "source": [
    "rf = RandomForestClassifier(\n",
    "    n_estimators=10,\n",
    "    class_weight='balanced'\n",
    ")\n",
    "rf.fit(X_train_prepared, y_train_encoded)"
   ]
  },
  {
   "cell_type": "code",
   "execution_count": null,
   "metadata": {},
   "outputs": [],
   "source": [
    "# make predictions for training and test:\n",
    "y_pred_train = rf.predict(X_train_prepared)\n",
    "y_pred_test = rf.predict(X_test_prepared)"
   ]
  },
  {
   "cell_type": "code",
   "execution_count": null,
   "metadata": {},
   "outputs": [],
   "source": [
    "print('CLASSIFICATION METRICS FOR TRAINING: \\n')\n",
    "print(classification_report(y_train_encoded, y_pred_train))\n",
    "print('#########################################################\\n')\n",
    "\n",
    "print('CLASSIFICATION METRICS FOR TESTING: \\n')\n",
    "print(classification_report(y_test_encoded, y_pred_test))"
   ]
  },
  {
   "cell_type": "code",
   "execution_count": null,
   "metadata": {},
   "outputs": [],
   "source": [
    "accuracy_score(y_test_encoded, y_pred_test)"
   ]
  },
  {
   "cell_type": "code",
   "execution_count": null,
   "metadata": {},
   "outputs": [],
   "source": [
    "from sklearn.model_selection import cross_val_score"
   ]
  },
  {
   "cell_type": "code",
   "execution_count": null,
   "metadata": {},
   "outputs": [],
   "source": [
    "cross_val_score(rf, X_train_prepared, y_train_encoded, scoring='recall', cv=5)"
   ]
  },
  {
   "cell_type": "markdown",
   "metadata": {},
   "source": [
    "#### Print Top 10 Features"
   ]
  },
  {
   "cell_type": "code",
   "execution_count": null,
   "metadata": {},
   "outputs": [],
   "source": [
    "feat_imp_lst = list(zip(X_train_prepared.columns, rf.feature_importances_))\n",
    "feat_lst = sorted(feat_imp_lst, key=lambda x: x[1], reverse=True)\n",
    "for tup in feat_lst[:10]:\n",
    "    print(tup)"
   ]
  },
  {
   "cell_type": "markdown",
   "metadata": {},
   "source": [
    "[Back to top](#top)"
   ]
  },
  {
   "cell_type": "markdown",
   "metadata": {},
   "source": [
    "<a id='in-action'></a>\n",
    "## Shapley Values in Action\n",
    "\n",
    "The `shap` package includes a C++ optimized implementation for several popular Python tree models."
   ]
  },
  {
   "cell_type": "code",
   "execution_count": null,
   "metadata": {},
   "outputs": [],
   "source": [
    "explainer = shap.TreeExplainer(rf)\n",
    "shap_values = explainer.shap_values(X_train_prepared)"
   ]
  },
  {
   "cell_type": "code",
   "execution_count": null,
   "metadata": {},
   "outputs": [],
   "source": [
    "import pickle"
   ]
  },
  {
   "cell_type": "code",
   "execution_count": null,
   "metadata": {},
   "outputs": [],
   "source": [
    "# with open('rf-explainer.pickle', 'wb') as f:\n",
    "#     pickle.dump(explainer, f, pickle.HIGHEST_PROTOCOL)\n",
    "# with open('rf-shap-values.pickle', 'wb') as s:\n",
    "#     pickle.dump(shap_values, s, pickle.HIGHEST_PROTOCOL)"
   ]
  },
  {
   "cell_type": "code",
   "execution_count": null,
   "metadata": {},
   "outputs": [],
   "source": [
    "with open('rf-explainer.pickle', 'rb') as f:\n",
    "    explainer2 = pickle.load(f)\n",
    "with open('rf-shap-values.pickle', 'rb') as s:\n",
    "    shap_values2 = pickle.load(s)"
   ]
  },
  {
   "cell_type": "markdown",
   "metadata": {},
   "source": [
    "[Back to top](#top)"
   ]
  },
  {
   "cell_type": "markdown",
   "metadata": {},
   "source": [
    "<a id='visualize'></a>\n",
    "### Plot the Shapley Values for the first observation in `X_train_prepared`"
   ]
  },
  {
   "cell_type": "code",
   "execution_count": null,
   "metadata": {},
   "outputs": [],
   "source": [
    "# load JS visualization code to notebook\n",
    "shap.initjs()\n",
    "\n",
    "# show \n",
    "display(X_train_prepared.iloc[0])\n",
    "print()\n",
    "print(\"Actual Label:\\t\\t{}\".format(y_train_encoded[0]))\n",
    "print(\"Predicted Label:\\t{}\".format(y_pred_train[0]))\n",
    "\n",
    "# plot the explanation of each feature for the first prediction\n",
    "shap.force_plot(explainer2.expected_value[0], shap_values[1][0, :], X_train_prepared.iloc[0, :])"
   ]
  },
  {
   "cell_type": "markdown",
   "metadata": {},
   "source": [
    "This is great, but we have 32,561 observations. We can visualize the entire data set as a distribution:"
   ]
  },
  {
   "cell_type": "markdown",
   "metadata": {},
   "source": [
    "#### Look at explanations for 100 Class 0 Predictions"
   ]
  },
  {
   "cell_type": "code",
   "execution_count": null,
   "metadata": {},
   "outputs": [],
   "source": [
    "# make constants for which class is of interest\n",
    "EXP_VALUE = 0\n",
    "PRED_CLASS = 0\n",
    "NUM_OBS = 100\n",
    "\n",
    "# grab first 100 observations predicted class 1\n",
    "data_to_plot = X_train_prepared.reset_index(drop=True)[y_pred_train == PRED_CLASS].iloc[:NUM_OBS, :]\n",
    "\n",
    "# grab row indexes for these instances\n",
    "row_idx = data_to_plot.index\n",
    "\n",
    "# create the plot\n",
    "shap.force_plot(\n",
    "    explainer2.expected_value[EXP_VALUE],\n",
    "    shap_values[PRED_CLASS][row_idx],\n",
    "    data_to_plot\n",
    ")"
   ]
  },
  {
   "cell_type": "markdown",
   "metadata": {},
   "source": [
    "#### Look at explanations for Class 1 Predictions"
   ]
  },
  {
   "cell_type": "code",
   "execution_count": null,
   "metadata": {},
   "outputs": [],
   "source": [
    "# make constants for which class is of interest\n",
    "EXP_VALUE = 1\n",
    "PRED_CLASS = 1\n",
    "NUM_OBS = 100\n",
    "\n",
    "# grab first 100 observations predicted class 1\n",
    "data_to_plot = X_train_prepared.reset_index(drop=True)[y_pred_train == PRED_CLASS].iloc[:NUM_OBS, :]\n",
    "\n",
    "# grab row indexes for these instances\n",
    "row_idx = data_to_plot.index\n",
    "\n",
    "# create the plot\n",
    "shap.force_plot(\n",
    "    explainer2.expected_value[EXP_VALUE],\n",
    "    shap_values[PRED_CLASS][row_idx],\n",
    "    data_to_plot\n",
    ")"
   ]
  },
  {
   "cell_type": "markdown",
   "metadata": {},
   "source": [
    "[Back to top](#top)"
   ]
  },
  {
   "cell_type": "markdown",
   "metadata": {},
   "source": [
    "<a id='future-work'></a>\n",
    "## NEW!\n",
    "\n",
    "Fairness and Bias Auditing with [Aequitas](https://github.com/dssg/aequitas/blob/master/docs/source/examples/compas_demo.ipynb)."
   ]
  },
  {
   "cell_type": "code",
   "execution_count": null,
   "metadata": {},
   "outputs": [],
   "source": [
    "# !pip install -yc --prefix {sys.prefix} git+https://github.com/dssg/aequitas.git"
   ]
  },
  {
   "cell_type": "markdown",
   "metadata": {},
   "source": [
    "<a id='fairness-and-bias'></a>\n",
    "## Fairness and Bias\n",
    "1. [Visit the Aequitas project website](http://www.datasciencepublicpolicy.org/projects/aequitas/)\n",
    "2. [Aequitas Fairness GitHub](https://github.com/dssg/aequitas)\n",
    "3. [Aequitas API Docs](https://dssg.github.io/aequitas/api/aequitas.html)\n",
    "4. [Aequitas Example](https://dssg.github.io/aequitas/examples/compas_demo.html)"
   ]
  },
  {
   "cell_type": "code",
   "execution_count": null,
   "metadata": {},
   "outputs": [],
   "source": [
    "# !pip install aequitas"
   ]
  },
  {
   "cell_type": "code",
   "execution_count": 20,
   "metadata": {},
   "outputs": [],
   "source": [
    "import seaborn as sns\n",
    "import matplotlib.pyplot as plt\n",
    "\n",
    "from aequitas.group import Group\n",
    "from aequitas.bias import Bias\n",
    "from aequitas.fairness import Fairness\n",
    "from aequitas.plotting import Plot\n",
    "\n",
    "import warnings; warnings.simplefilter('ignore')"
   ]
  },
  {
   "cell_type": "code",
   "execution_count": 21,
   "metadata": {},
   "outputs": [],
   "source": [
    "plt.rcParams[\"figure.figsize\"] = [6.4, 4.8]\n",
    "pd.set_option(\"display.max_columns\", 99)"
   ]
  },
  {
   "cell_type": "markdown",
   "metadata": {},
   "source": [
    "### Load sample data"
   ]
  },
  {
   "cell_type": "code",
   "execution_count": 22,
   "metadata": {},
   "outputs": [],
   "source": [
    "RAW_DATA = 'https://raw.githubusercontent.com/dssg/aequitas/master/examples/data/compas_for_aequitas.csv'\n",
    "df = pd.read_csv(RAW_DATA)"
   ]
  },
  {
   "cell_type": "code",
   "execution_count": 23,
   "metadata": {
    "scrolled": true
   },
   "outputs": [
    {
     "data": {
      "text/html": [
       "<div>\n",
       "<style scoped>\n",
       "    .dataframe tbody tr th:only-of-type {\n",
       "        vertical-align: middle;\n",
       "    }\n",
       "\n",
       "    .dataframe tbody tr th {\n",
       "        vertical-align: top;\n",
       "    }\n",
       "\n",
       "    .dataframe thead th {\n",
       "        text-align: right;\n",
       "    }\n",
       "</style>\n",
       "<table border=\"1\" class=\"dataframe\">\n",
       "  <thead>\n",
       "    <tr style=\"text-align: right;\">\n",
       "      <th></th>\n",
       "      <th>entity_id</th>\n",
       "      <th>score</th>\n",
       "      <th>label_value</th>\n",
       "      <th>race</th>\n",
       "      <th>sex</th>\n",
       "      <th>age_cat</th>\n",
       "    </tr>\n",
       "  </thead>\n",
       "  <tbody>\n",
       "    <tr>\n",
       "      <th>0</th>\n",
       "      <td>1</td>\n",
       "      <td>0.0</td>\n",
       "      <td>0</td>\n",
       "      <td>Other</td>\n",
       "      <td>Male</td>\n",
       "      <td>Greater than 45</td>\n",
       "    </tr>\n",
       "    <tr>\n",
       "      <th>1</th>\n",
       "      <td>3</td>\n",
       "      <td>0.0</td>\n",
       "      <td>1</td>\n",
       "      <td>African-American</td>\n",
       "      <td>Male</td>\n",
       "      <td>25 - 45</td>\n",
       "    </tr>\n",
       "    <tr>\n",
       "      <th>2</th>\n",
       "      <td>4</td>\n",
       "      <td>0.0</td>\n",
       "      <td>1</td>\n",
       "      <td>African-American</td>\n",
       "      <td>Male</td>\n",
       "      <td>Less than 25</td>\n",
       "    </tr>\n",
       "    <tr>\n",
       "      <th>3</th>\n",
       "      <td>5</td>\n",
       "      <td>1.0</td>\n",
       "      <td>0</td>\n",
       "      <td>African-American</td>\n",
       "      <td>Male</td>\n",
       "      <td>Less than 25</td>\n",
       "    </tr>\n",
       "    <tr>\n",
       "      <th>4</th>\n",
       "      <td>6</td>\n",
       "      <td>0.0</td>\n",
       "      <td>0</td>\n",
       "      <td>Other</td>\n",
       "      <td>Male</td>\n",
       "      <td>25 - 45</td>\n",
       "    </tr>\n",
       "  </tbody>\n",
       "</table>\n",
       "</div>"
      ],
      "text/plain": [
       "   entity_id  score  label_value              race   sex          age_cat\n",
       "0          1    0.0            0             Other  Male  Greater than 45\n",
       "1          3    0.0            1  African-American  Male          25 - 45\n",
       "2          4    0.0            1  African-American  Male     Less than 25\n",
       "3          5    1.0            0  African-American  Male     Less than 25\n",
       "4          6    0.0            0             Other  Male          25 - 45"
      ]
     },
     "execution_count": 23,
     "metadata": {},
     "output_type": "execute_result"
    }
   ],
   "source": [
    "df.head()"
   ]
  },
  {
   "cell_type": "markdown",
   "metadata": {},
   "source": [
    "### About the data\n",
    "Risk assessment by race\n",
    "\n",
    "COMPAS produces a risk score that predicts a person’s likelihood of commiting a crime in the next two years. The output is a score between 1 and 10 that maps to low, medium or high. For Aequitas, we collapse this to a binary prediction. A score of 0 indicates a prediction of “low” risk according to COMPAS, while a 1 indicates “high” or “medium” risk."
   ]
  },
  {
   "cell_type": "code",
   "execution_count": 24,
   "metadata": {},
   "outputs": [],
   "source": [
    "aq_palette = sns.diverging_palette(225, 35, n=2)"
   ]
  },
  {
   "cell_type": "markdown",
   "metadata": {},
   "source": [
    "Race by label"
   ]
  },
  {
   "cell_type": "code",
   "execution_count": 25,
   "metadata": {},
   "outputs": [
    {
     "data": {
      "image/png": "[encoded data removed]",
      "text/plain": [
       "<Figure size 460.8x345.6 with 1 Axes>"
      ]
     },
     "metadata": {
      "needs_background": "light"
     },
     "output_type": "display_data"
    }
   ],
   "source": [
    "label_by_race = sns.countplot(\n",
    "    x=\"race\", hue=\"label_value\", \n",
    "    data=df[df.race.isin(['African-American', 'Caucasian', 'Hispanic'])], \n",
    "    palette=aq_palette\n",
    ")"
   ]
  },
  {
   "cell_type": "markdown",
   "metadata": {},
   "source": [
    "Look at the prediction distributons along the race, sex, and age attributes."
   ]
  },
  {
   "cell_type": "code",
   "execution_count": 26,
   "metadata": {},
   "outputs": [
    {
     "data": {
      "image/png": "[encoded data removed]",
      "text/plain": [
       "<Figure size 460.8x345.6 with 1 Axes>"
      ]
     },
     "metadata": {
      "needs_background": "light"
     },
     "output_type": "display_data"
    }
   ],
   "source": [
    "by_race = sns.countplot(\n",
    "            x=\"race\", hue=\"score\", \n",
    "            data=df[df.race.isin(['African-American', 'Caucasian', 'Hispanic'])],\n",
    "            palette=aq_palette\n",
    ")"
   ]
  },
  {
   "cell_type": "markdown",
   "metadata": {},
   "source": [
    "Labels by Sex"
   ]
  },
  {
   "cell_type": "code",
   "execution_count": 27,
   "metadata": {},
   "outputs": [
    {
     "data": {
      "image/png": "[encoded data removed]",
      "text/plain": [
       "<Figure size 460.8x345.6 with 1 Axes>"
      ]
     },
     "metadata": {
      "needs_background": "light"
     },
     "output_type": "display_data"
    }
   ],
   "source": [
    "label_by_sex = sns.countplot(\n",
    "    x=\"sex\", hue=\"label_value\", \n",
    "    data=df, palette=aq_palette\n",
    ")"
   ]
  },
  {
   "cell_type": "markdown",
   "metadata": {},
   "source": [
    "Predictions by Sex"
   ]
  },
  {
   "cell_type": "code",
   "execution_count": 28,
   "metadata": {},
   "outputs": [
    {
     "data": {
      "image/png": "[encoded data removed]",
      "text/plain": [
       "<Figure size 460.8x345.6 with 1 Axes>"
      ]
     },
     "metadata": {
      "needs_background": "light"
     },
     "output_type": "display_data"
    }
   ],
   "source": [
    "by_sex = sns.countplot(x=\"sex\", hue=\"score\", data=df, palette=aq_palette)"
   ]
  },
  {
   "cell_type": "markdown",
   "metadata": {},
   "source": [
    "Labels by Age"
   ]
  },
  {
   "cell_type": "code",
   "execution_count": 29,
   "metadata": {},
   "outputs": [
    {
     "data": {
      "image/png": "[encoded data removed]",
      "text/plain": [
       "<Figure size 460.8x345.6 with 1 Axes>"
      ]
     },
     "metadata": {
      "needs_background": "light"
     },
     "output_type": "display_data"
    }
   ],
   "source": [
    "label_by_age = sns.countplot(\n",
    "    x=\"age_cat\", hue=\"label_value\", \n",
    "    data=df, palette=aq_palette\n",
    ")"
   ]
  },
  {
   "cell_type": "markdown",
   "metadata": {},
   "source": [
    "Predictions by Age"
   ]
  },
  {
   "cell_type": "code",
   "execution_count": 30,
   "metadata": {},
   "outputs": [
    {
     "data": {
      "image/png": "[encoded data removed]",
      "text/plain": [
       "<Figure size 460.8x345.6 with 1 Axes>"
      ]
     },
     "metadata": {
      "needs_background": "light"
     },
     "output_type": "display_data"
    }
   ],
   "source": [
    "by_age = sns.countplot(x=\"age_cat\", hue=\"score\", data=df, palette=aq_palette)"
   ]
  },
  {
   "cell_type": "markdown",
   "metadata": {},
   "source": [
    "The graphs above show the base rates for recidivism are higher for black defendants compared to white defendants (.51 vs .39), though the predictions do not match the base rates."
   ]
  },
  {
   "cell_type": "markdown",
   "metadata": {},
   "source": [
    "#### Initialize a `Group()` instance to see metrics in cross tabulations"
   ]
  },
  {
   "cell_type": "code",
   "execution_count": 31,
   "metadata": {},
   "outputs": [
    {
     "name": "stdout",
     "output_type": "stream",
     "text": [
      "model_id, score_thresholds 0 {'rank_abs': [3317]}\n"
     ]
    }
   ],
   "source": [
    "g = Group()\n",
    "xtab, _ = g.get_crosstabs(df)"
   ]
  },
  {
   "cell_type": "code",
   "execution_count": 32,
   "metadata": {},
   "outputs": [
    {
     "data": {
      "text/html": [
       "<div>\n",
       "<style scoped>\n",
       "    .dataframe tbody tr th:only-of-type {\n",
       "        vertical-align: middle;\n",
       "    }\n",
       "\n",
       "    .dataframe tbody tr th {\n",
       "        vertical-align: top;\n",
       "    }\n",
       "\n",
       "    .dataframe thead th {\n",
       "        text-align: right;\n",
       "    }\n",
       "</style>\n",
       "<table border=\"1\" class=\"dataframe\">\n",
       "  <thead>\n",
       "    <tr style=\"text-align: right;\">\n",
       "      <th></th>\n",
       "      <th>model_id</th>\n",
       "      <th>score_threshold</th>\n",
       "      <th>k</th>\n",
       "      <th>attribute_name</th>\n",
       "      <th>attribute_value</th>\n",
       "      <th>tpr</th>\n",
       "      <th>tnr</th>\n",
       "      <th>for</th>\n",
       "      <th>fdr</th>\n",
       "      <th>fpr</th>\n",
       "      <th>fnr</th>\n",
       "      <th>npv</th>\n",
       "      <th>precision</th>\n",
       "      <th>pp</th>\n",
       "      <th>pn</th>\n",
       "      <th>ppr</th>\n",
       "      <th>pprev</th>\n",
       "      <th>fp</th>\n",
       "      <th>fn</th>\n",
       "      <th>tn</th>\n",
       "      <th>tp</th>\n",
       "      <th>group_label_pos</th>\n",
       "      <th>group_label_neg</th>\n",
       "      <th>group_size</th>\n",
       "      <th>total_entities</th>\n",
       "      <th>prev</th>\n",
       "    </tr>\n",
       "  </thead>\n",
       "  <tbody>\n",
       "    <tr>\n",
       "      <th>0</th>\n",
       "      <td>0</td>\n",
       "      <td>binary 0/1</td>\n",
       "      <td>3317</td>\n",
       "      <td>race</td>\n",
       "      <td>African-American</td>\n",
       "      <td>0.720147</td>\n",
       "      <td>0.551532</td>\n",
       "      <td>0.349540</td>\n",
       "      <td>0.370285</td>\n",
       "      <td>0.448468</td>\n",
       "      <td>0.279853</td>\n",
       "      <td>0.650460</td>\n",
       "      <td>0.629715</td>\n",
       "      <td>2174</td>\n",
       "      <td>1522</td>\n",
       "      <td>0.655412</td>\n",
       "      <td>0.588203</td>\n",
       "      <td>805</td>\n",
       "      <td>532</td>\n",
       "      <td>990</td>\n",
       "      <td>1369</td>\n",
       "      <td>1901</td>\n",
       "      <td>1795</td>\n",
       "      <td>3696</td>\n",
       "      <td>7214</td>\n",
       "      <td>0.514340</td>\n",
       "    </tr>\n",
       "    <tr>\n",
       "      <th>1</th>\n",
       "      <td>0</td>\n",
       "      <td>binary 0/1</td>\n",
       "      <td>3317</td>\n",
       "      <td>race</td>\n",
       "      <td>Asian</td>\n",
       "      <td>0.666667</td>\n",
       "      <td>0.913043</td>\n",
       "      <td>0.125000</td>\n",
       "      <td>0.250000</td>\n",
       "      <td>0.086957</td>\n",
       "      <td>0.333333</td>\n",
       "      <td>0.875000</td>\n",
       "      <td>0.750000</td>\n",
       "      <td>8</td>\n",
       "      <td>24</td>\n",
       "      <td>0.002412</td>\n",
       "      <td>0.250000</td>\n",
       "      <td>2</td>\n",
       "      <td>3</td>\n",
       "      <td>21</td>\n",
       "      <td>6</td>\n",
       "      <td>9</td>\n",
       "      <td>23</td>\n",
       "      <td>32</td>\n",
       "      <td>7214</td>\n",
       "      <td>0.281250</td>\n",
       "    </tr>\n",
       "    <tr>\n",
       "      <th>2</th>\n",
       "      <td>0</td>\n",
       "      <td>binary 0/1</td>\n",
       "      <td>3317</td>\n",
       "      <td>race</td>\n",
       "      <td>Caucasian</td>\n",
       "      <td>0.522774</td>\n",
       "      <td>0.765457</td>\n",
       "      <td>0.288125</td>\n",
       "      <td>0.408665</td>\n",
       "      <td>0.234543</td>\n",
       "      <td>0.477226</td>\n",
       "      <td>0.711875</td>\n",
       "      <td>0.591335</td>\n",
       "      <td>854</td>\n",
       "      <td>1600</td>\n",
       "      <td>0.257462</td>\n",
       "      <td>0.348003</td>\n",
       "      <td>349</td>\n",
       "      <td>461</td>\n",
       "      <td>1139</td>\n",
       "      <td>505</td>\n",
       "      <td>966</td>\n",
       "      <td>1488</td>\n",
       "      <td>2454</td>\n",
       "      <td>7214</td>\n",
       "      <td>0.393643</td>\n",
       "    </tr>\n",
       "    <tr>\n",
       "      <th>3</th>\n",
       "      <td>0</td>\n",
       "      <td>binary 0/1</td>\n",
       "      <td>3317</td>\n",
       "      <td>race</td>\n",
       "      <td>Hispanic</td>\n",
       "      <td>0.443966</td>\n",
       "      <td>0.785185</td>\n",
       "      <td>0.288591</td>\n",
       "      <td>0.457895</td>\n",
       "      <td>0.214815</td>\n",
       "      <td>0.556034</td>\n",
       "      <td>0.711409</td>\n",
       "      <td>0.542105</td>\n",
       "      <td>190</td>\n",
       "      <td>447</td>\n",
       "      <td>0.057281</td>\n",
       "      <td>0.298273</td>\n",
       "      <td>87</td>\n",
       "      <td>129</td>\n",
       "      <td>318</td>\n",
       "      <td>103</td>\n",
       "      <td>232</td>\n",
       "      <td>405</td>\n",
       "      <td>637</td>\n",
       "      <td>7214</td>\n",
       "      <td>0.364207</td>\n",
       "    </tr>\n",
       "    <tr>\n",
       "      <th>4</th>\n",
       "      <td>0</td>\n",
       "      <td>binary 0/1</td>\n",
       "      <td>3317</td>\n",
       "      <td>race</td>\n",
       "      <td>Native American</td>\n",
       "      <td>0.900000</td>\n",
       "      <td>0.625000</td>\n",
       "      <td>0.166667</td>\n",
       "      <td>0.250000</td>\n",
       "      <td>0.375000</td>\n",
       "      <td>0.100000</td>\n",
       "      <td>0.833333</td>\n",
       "      <td>0.750000</td>\n",
       "      <td>12</td>\n",
       "      <td>6</td>\n",
       "      <td>0.003618</td>\n",
       "      <td>0.666667</td>\n",
       "      <td>3</td>\n",
       "      <td>1</td>\n",
       "      <td>5</td>\n",
       "      <td>9</td>\n",
       "      <td>10</td>\n",
       "      <td>8</td>\n",
       "      <td>18</td>\n",
       "      <td>7214</td>\n",
       "      <td>0.555556</td>\n",
       "    </tr>\n",
       "    <tr>\n",
       "      <th>5</th>\n",
       "      <td>0</td>\n",
       "      <td>binary 0/1</td>\n",
       "      <td>3317</td>\n",
       "      <td>race</td>\n",
       "      <td>Other</td>\n",
       "      <td>0.323308</td>\n",
       "      <td>0.852459</td>\n",
       "      <td>0.302013</td>\n",
       "      <td>0.455696</td>\n",
       "      <td>0.147541</td>\n",
       "      <td>0.676692</td>\n",
       "      <td>0.697987</td>\n",
       "      <td>0.544304</td>\n",
       "      <td>79</td>\n",
       "      <td>298</td>\n",
       "      <td>0.023817</td>\n",
       "      <td>0.209549</td>\n",
       "      <td>36</td>\n",
       "      <td>90</td>\n",
       "      <td>208</td>\n",
       "      <td>43</td>\n",
       "      <td>133</td>\n",
       "      <td>244</td>\n",
       "      <td>377</td>\n",
       "      <td>7214</td>\n",
       "      <td>0.352785</td>\n",
       "    </tr>\n",
       "    <tr>\n",
       "      <th>6</th>\n",
       "      <td>0</td>\n",
       "      <td>binary 0/1</td>\n",
       "      <td>3317</td>\n",
       "      <td>sex</td>\n",
       "      <td>Female</td>\n",
       "      <td>0.608434</td>\n",
       "      <td>0.678930</td>\n",
       "      <td>0.242537</td>\n",
       "      <td>0.487310</td>\n",
       "      <td>0.321070</td>\n",
       "      <td>0.391566</td>\n",
       "      <td>0.757463</td>\n",
       "      <td>0.512690</td>\n",
       "      <td>591</td>\n",
       "      <td>804</td>\n",
       "      <td>0.178173</td>\n",
       "      <td>0.423656</td>\n",
       "      <td>288</td>\n",
       "      <td>195</td>\n",
       "      <td>609</td>\n",
       "      <td>303</td>\n",
       "      <td>498</td>\n",
       "      <td>897</td>\n",
       "      <td>1395</td>\n",
       "      <td>7214</td>\n",
       "      <td>0.356989</td>\n",
       "    </tr>\n",
       "    <tr>\n",
       "      <th>7</th>\n",
       "      <td>0</td>\n",
       "      <td>binary 0/1</td>\n",
       "      <td>3317</td>\n",
       "      <td>sex</td>\n",
       "      <td>Male</td>\n",
       "      <td>0.629132</td>\n",
       "      <td>0.675799</td>\n",
       "      <td>0.330100</td>\n",
       "      <td>0.364637</td>\n",
       "      <td>0.324201</td>\n",
       "      <td>0.370868</td>\n",
       "      <td>0.669900</td>\n",
       "      <td>0.635363</td>\n",
       "      <td>2726</td>\n",
       "      <td>3093</td>\n",
       "      <td>0.821827</td>\n",
       "      <td>0.468465</td>\n",
       "      <td>994</td>\n",
       "      <td>1021</td>\n",
       "      <td>2072</td>\n",
       "      <td>1732</td>\n",
       "      <td>2753</td>\n",
       "      <td>3066</td>\n",
       "      <td>5819</td>\n",
       "      <td>7214</td>\n",
       "      <td>0.473105</td>\n",
       "    </tr>\n",
       "    <tr>\n",
       "      <th>8</th>\n",
       "      <td>0</td>\n",
       "      <td>binary 0/1</td>\n",
       "      <td>3317</td>\n",
       "      <td>age_cat</td>\n",
       "      <td>25 - 45</td>\n",
       "      <td>0.626257</td>\n",
       "      <td>0.666216</td>\n",
       "      <td>0.323112</td>\n",
       "      <td>0.385135</td>\n",
       "      <td>0.333784</td>\n",
       "      <td>0.373743</td>\n",
       "      <td>0.676888</td>\n",
       "      <td>0.614865</td>\n",
       "      <td>1924</td>\n",
       "      <td>2185</td>\n",
       "      <td>0.580042</td>\n",
       "      <td>0.468240</td>\n",
       "      <td>741</td>\n",
       "      <td>706</td>\n",
       "      <td>1479</td>\n",
       "      <td>1183</td>\n",
       "      <td>1889</td>\n",
       "      <td>2220</td>\n",
       "      <td>4109</td>\n",
       "      <td>7214</td>\n",
       "      <td>0.459723</td>\n",
       "    </tr>\n",
       "    <tr>\n",
       "      <th>9</th>\n",
       "      <td>0</td>\n",
       "      <td>binary 0/1</td>\n",
       "      <td>3317</td>\n",
       "      <td>age_cat</td>\n",
       "      <td>Greater than 45</td>\n",
       "      <td>0.427711</td>\n",
       "      <td>0.832096</td>\n",
       "      <td>0.241117</td>\n",
       "      <td>0.459391</td>\n",
       "      <td>0.167904</td>\n",
       "      <td>0.572289</td>\n",
       "      <td>0.758883</td>\n",
       "      <td>0.540609</td>\n",
       "      <td>394</td>\n",
       "      <td>1182</td>\n",
       "      <td>0.118782</td>\n",
       "      <td>0.250000</td>\n",
       "      <td>181</td>\n",
       "      <td>285</td>\n",
       "      <td>897</td>\n",
       "      <td>213</td>\n",
       "      <td>498</td>\n",
       "      <td>1078</td>\n",
       "      <td>1576</td>\n",
       "      <td>7214</td>\n",
       "      <td>0.315990</td>\n",
       "    </tr>\n",
       "    <tr>\n",
       "      <th>10</th>\n",
       "      <td>0</td>\n",
       "      <td>binary 0/1</td>\n",
       "      <td>3317</td>\n",
       "      <td>age_cat</td>\n",
       "      <td>Less than 25</td>\n",
       "      <td>0.739583</td>\n",
       "      <td>0.458647</td>\n",
       "      <td>0.424528</td>\n",
       "      <td>0.360360</td>\n",
       "      <td>0.541353</td>\n",
       "      <td>0.260417</td>\n",
       "      <td>0.575472</td>\n",
       "      <td>0.639640</td>\n",
       "      <td>999</td>\n",
       "      <td>530</td>\n",
       "      <td>0.301176</td>\n",
       "      <td>0.653368</td>\n",
       "      <td>360</td>\n",
       "      <td>225</td>\n",
       "      <td>305</td>\n",
       "      <td>639</td>\n",
       "      <td>864</td>\n",
       "      <td>665</td>\n",
       "      <td>1529</td>\n",
       "      <td>7214</td>\n",
       "      <td>0.565075</td>\n",
       "    </tr>\n",
       "  </tbody>\n",
       "</table>\n",
       "</div>"
      ],
      "text/plain": [
       "    model_id score_threshold     k attribute_name   attribute_value       tpr  \\\n",
       "0          0      binary 0/1  3317           race  African-American  0.720147   \n",
       "1          0      binary 0/1  3317           race             Asian  0.666667   \n",
       "2          0      binary 0/1  3317           race         Caucasian  0.522774   \n",
       "3          0      binary 0/1  3317           race          Hispanic  0.443966   \n",
       "4          0      binary 0/1  3317           race   Native American  0.900000   \n",
       "5          0      binary 0/1  3317           race             Other  0.323308   \n",
       "6          0      binary 0/1  3317            sex            Female  0.608434   \n",
       "7          0      binary 0/1  3317            sex              Male  0.629132   \n",
       "8          0      binary 0/1  3317        age_cat           25 - 45  0.626257   \n",
       "9          0      binary 0/1  3317        age_cat   Greater than 45  0.427711   \n",
       "10         0      binary 0/1  3317        age_cat      Less than 25  0.739583   \n",
       "\n",
       "         tnr       for       fdr       fpr       fnr       npv  precision  \\\n",
       "0   0.551532  0.349540  0.370285  0.448468  0.279853  0.650460   0.629715   \n",
       "1   0.913043  0.125000  0.250000  0.086957  0.333333  0.875000   0.750000   \n",
       "2   0.765457  0.288125  0.408665  0.234543  0.477226  0.711875   0.591335   \n",
       "3   0.785185  0.288591  0.457895  0.214815  0.556034  0.711409   0.542105   \n",
       "4   0.625000  0.166667  0.250000  0.375000  0.100000  0.833333   0.750000   \n",
       "5   0.852459  0.302013  0.455696  0.147541  0.676692  0.697987   0.544304   \n",
       "6   0.678930  0.242537  0.487310  0.321070  0.391566  0.757463   0.512690   \n",
       "7   0.675799  0.330100  0.364637  0.324201  0.370868  0.669900   0.635363   \n",
       "8   0.666216  0.323112  0.385135  0.333784  0.373743  0.676888   0.614865   \n",
       "9   0.832096  0.241117  0.459391  0.167904  0.572289  0.758883   0.540609   \n",
       "10  0.458647  0.424528  0.360360  0.541353  0.260417  0.575472   0.639640   \n",
       "\n",
       "      pp    pn       ppr     pprev   fp    fn    tn    tp  group_label_pos  \\\n",
       "0   2174  1522  0.655412  0.588203  805   532   990  1369             1901   \n",
       "1      8    24  0.002412  0.250000    2     3    21     6                9   \n",
       "2    854  1600  0.257462  0.348003  349   461  1139   505              966   \n",
       "3    190   447  0.057281  0.298273   87   129   318   103              232   \n",
       "4     12     6  0.003618  0.666667    3     1     5     9               10   \n",
       "5     79   298  0.023817  0.209549   36    90   208    43              133   \n",
       "6    591   804  0.178173  0.423656  288   195   609   303              498   \n",
       "7   2726  3093  0.821827  0.468465  994  1021  2072  1732             2753   \n",
       "8   1924  2185  0.580042  0.468240  741   706  1479  1183             1889   \n",
       "9    394  1182  0.118782  0.250000  181   285   897   213              498   \n",
       "10   999   530  0.301176  0.653368  360   225   305   639              864   \n",
       "\n",
       "    group_label_neg  group_size  total_entities      prev  \n",
       "0              1795        3696            7214  0.514340  \n",
       "1                23          32            7214  0.281250  \n",
       "2              1488        2454            7214  0.393643  \n",
       "3               405         637            7214  0.364207  \n",
       "4                 8          18            7214  0.555556  \n",
       "5               244         377            7214  0.352785  \n",
       "6               897        1395            7214  0.356989  \n",
       "7              3066        5819            7214  0.473105  \n",
       "8              2220        4109            7214  0.459723  \n",
       "9              1078        1576            7214  0.315990  \n",
       "10              665        1529            7214  0.565075  "
      ]
     },
     "execution_count": 32,
     "metadata": {},
     "output_type": "execute_result"
    }
   ],
   "source": [
    "xtab"
   ]
  },
  {
   "cell_type": "markdown",
   "metadata": {},
   "source": [
    "#### Plot the false negative rates\n",
    "\n",
    "These show how often the model misses someone that does commit another crime within that group."
   ]
  },
  {
   "cell_type": "code",
   "execution_count": 33,
   "metadata": {},
   "outputs": [],
   "source": [
    "aqp = Plot()"
   ]
  },
  {
   "cell_type": "code",
   "execution_count": 34,
   "metadata": {},
   "outputs": [
    {
     "data": {
      "image/png": "[encoded data removed]",
      "text/plain": [
       "<Figure size 720x360 with 1 Axes>"
      ]
     },
     "metadata": {
      "needs_background": "light"
     },
     "output_type": "display_data"
    }
   ],
   "source": [
    "fnr = aqp.plot_group_metric(xtab, 'fnr', min_group_size=0.05)"
   ]
  },
  {
   "cell_type": "code",
   "execution_count": 35,
   "metadata": {},
   "outputs": [
    {
     "data": {
      "image/png": "[encoded data removed]",
      "text/plain": [
       "<Figure size 1800x864 with 6 Axes>"
      ]
     },
     "metadata": {
      "needs_background": "light"
     },
     "output_type": "display_data"
    },
    {
     "data": {
      "text/plain": [
       "<Figure size 460.8x345.6 with 0 Axes>"
      ]
     },
     "metadata": {},
     "output_type": "display_data"
    }
   ],
   "source": [
    "a = aqp.plot_group_metric_all(xtab, ncols=3)"
   ]
  },
  {
   "cell_type": "code",
   "execution_count": null,
   "metadata": {},
   "outputs": [],
   "source": []
  },
  {
   "cell_type": "code",
   "execution_count": null,
   "metadata": {},
   "outputs": [],
   "source": []
  },
  {
   "cell_type": "markdown",
   "metadata": {},
   "source": [
    "[Back to top](#top)"
   ]
  },
  {
   "cell_type": "markdown",
   "metadata": {},
   "source": [
    "## Scratch work"
   ]
  },
  {
   "cell_type": "code",
   "execution_count": null,
   "metadata": {},
   "outputs": [],
   "source": [
    "from sklearn.model_selection import RandomizedSearchCV"
   ]
  },
  {
   "cell_type": "code",
   "execution_count": null,
   "metadata": {},
   "outputs": [],
   "source": [
    "param_lst = {\n",
    "    \"n_estimators\": np.arange(10, 105, 10),\n",
    "    \"max_depth\": [None, 30, 10, 5],\n",
    "    \"class_weight\": ['balanced'],\n",
    "    \"oob_score\": [True],\n",
    "}"
   ]
  },
  {
   "cell_type": "code",
   "execution_count": null,
   "metadata": {},
   "outputs": [],
   "source": [
    "rs = RandomizedSearchCV(rf, param_distributions=param_lst, verbose=2)"
   ]
  },
  {
   "cell_type": "code",
   "execution_count": null,
   "metadata": {},
   "outputs": [],
   "source": [
    "rs.fit(X_train_prepared, y_train_encoded)"
   ]
  },
  {
   "cell_type": "code",
   "execution_count": null,
   "metadata": {},
   "outputs": [],
   "source": [
    "rs.best_estimator_"
   ]
  },
  {
   "cell_type": "code",
   "execution_count": null,
   "metadata": {},
   "outputs": [],
   "source": []
  }
 ],
 "metadata": {
  "kernelspec": {
   "display_name": "Python 3",
   "language": "python",
   "name": "python3"
  },
  "language_info": {
   "codemirror_mode": {
    "name": "ipython",
    "version": 3
   },
   "file_extension": ".py",
   "mimetype": "text/x-python",
   "name": "python",
   "nbconvert_exporter": "python",
   "pygments_lexer": "ipython3",
   "version": "3.8.5"
  }
 },
 "nbformat": 4,
 "nbformat_minor": 2
}
